{
 "cells": [
  {
   "cell_type": "markdown",
   "metadata": {},
   "source": [
    "# Semantic Processing of Legal Texts"
   ]
  },
  {
   "cell_type": "markdown",
   "metadata": {},
   "source": [
    "* 싸이지먼트 / 알파로우 : 파트 1 - LawNLP [1]\n",
    "* 김무성"
   ]
  },
  {
   "cell_type": "markdown",
   "metadata": {},
   "source": [
    "<font color=\"red\">Where the Language of Law<br> \n",
    "Meets the Law of Language</font>"
   ]
  },
  {
   "cell_type": "markdown",
   "metadata": {},
   "source": [
    "# Book Contents\n",
    "\n",
    "#### PART I – Legal Text Processing and Information Extraction\n",
    "* <font color=\"blue\">Legal Language and Legal Knowledge Management Applications</font>\n",
    "* Named Entity Recognition and Resolution in Legal Text\n",
    "* Using Linguistic Information and Machine Learning Techniques to Identify Entities from Juridical Documents\n",
    "* Approaches to Text Mining Arguments from Legal Cases\n",
    "\n",
    "#### PART II – Legal Text Processing and Construction of Knowledge Resources\n",
    "* Automatic Identification of Legal Terms in Czech Law Texts\n",
    "* Integrating a Bottom–Up and Top–Down Methodology for Building Semantic Resources for the Multilingual Legal Domain\n",
    "* Ontology Based Law Discovery\n",
    "* Multilevel Legal Ontologies\n",
    "\n",
    "#### PART III – Legal Text Processing and Semantic Indexing, Summarization and Translation\n",
    "* Semantic Indexing of Legal Documents\n",
    "* Automated Classification of Norms in Sources of Law\n",
    "* Efficient Multilabel Classification Algorithms for Large-Scale Problems in the Legal Domain\n",
    "* An Automatic System for Summarization and Information Extraction of Legal Information\n",
    "* Evaluation Metrics for Consistent Translation of Japanese Legal Sentences"
   ]
  },
  {
   "cell_type": "markdown",
   "metadata": {},
   "source": [
    "# Legal Language and Legal Knowledge Management Applications"
   ]
  },
  {
   "cell_type": "markdown",
   "metadata": {},
   "source": [
    "# Contents\n",
    "* Abstract\n",
    "* 1 Introduction\n",
    "* 2 Background and Motivation\n",
    "* 3 The Approach\n",
    "* 4 NLP Analysis of Legal Texts\n",
    "* 5 Parsing Italian Legal Texts\n",
    "    - 5.1 The NLP Tools\n",
    "    - 5.2 The Corpora\n",
    "    - 5.3 Comparative Syntactic and Lexical Analysis\n",
    "* 6 Parsing English Legal Texts\n",
    "    - 6.1 The NLP Tools\n",
    "    - 6.2 The Corpus\n",
    "    - 6.3 The Comparative Syntactic and Lexical Analysis\n",
    "* 7 Comparing Italian and English Legal Language Peculiarities\n",
    "* 8 Conclusion and Future Directions of Research"
   ]
  },
  {
   "cell_type": "markdown",
   "metadata": {},
   "source": [
    "# Abstract"
   ]
  },
  {
   "cell_type": "markdown",
   "metadata": {},
   "source": [
    "* Parsing Legal Texts, \n",
    "* Natural Language Processing, \n",
    "* Legal Language, \n",
    "* Knowledge Management Applications."
   ]
  },
  {
   "cell_type": "markdown",
   "metadata": {},
   "source": [
    "#### 참고\n",
    "* [2] Mining legal texts with Python - http://www.slideshare.net/fccoelho/mining-legal-texts-with-python\n",
    "* [3] NATURAL LANGUAGE PROCESSING AND LEGAL KNOWLEDGE EXTRACTION - http://www.italianlp.it/wp-content/uploads/2013/10/summerSchool2013_ILC.pdf"
   ]
  },
  {
   "cell_type": "markdown",
   "metadata": {},
   "source": [
    "# 1 Introduction"
   ]
  },
  {
   "cell_type": "markdown",
   "metadata": {},
   "source": [
    "# 2 Background and Motivation"
   ]
  },
  {
   "cell_type": "markdown",
   "metadata": {},
   "source": [
    "# 3 The Approach"
   ]
  },
  {
   "cell_type": "markdown",
   "metadata": {},
   "source": [
    "# 4 NLP Analysis of Legal Texts"
   ]
  },
  {
   "cell_type": "markdown",
   "metadata": {},
   "source": [
    "# 5 Parsing Italian Legal Texts\n",
    "* 5.1 The NLP Tools\n",
    "* 5.2 The Corpora\n",
    "* 5.3 Comparative Syntactic and Lexical Analysis"
   ]
  },
  {
   "cell_type": "markdown",
   "metadata": {},
   "source": [
    "## 5.1 The NLP Tools"
   ]
  },
  {
   "cell_type": "markdown",
   "metadata": {},
   "source": [
    "<img src=\"figures/cap1.1.png\" width=600 />"
   ]
  },
  {
   "cell_type": "markdown",
   "metadata": {},
   "source": [
    "## 5.2 The Corpora"
   ]
  },
  {
   "cell_type": "markdown",
   "metadata": {},
   "source": [
    "## 5.3 Comparative Syntactic and Lexical Analysis"
   ]
  },
  {
   "cell_type": "markdown",
   "metadata": {},
   "source": [
    "<img src=\"figures/cap1.2.png\" width=600 />"
   ]
  },
  {
   "cell_type": "markdown",
   "metadata": {},
   "source": [
    "<img src=\"figures/cap1.3.png\" width=600 />"
   ]
  },
  {
   "cell_type": "markdown",
   "metadata": {},
   "source": [
    "<img src=\"figures/cap1.4.png\" width=600 />"
   ]
  },
  {
   "cell_type": "markdown",
   "metadata": {},
   "source": [
    "<img src=\"figures/cap1.5.png\" width=600 />"
   ]
  },
  {
   "cell_type": "markdown",
   "metadata": {},
   "source": [
    "# 6 Parsing English Legal Texts\n",
    "* 6.1 The NLP Tools\n",
    "* 6.2 The Corpus\n",
    "* 6.3 The Comparative Syntactic and Lexical Analysis"
   ]
  },
  {
   "cell_type": "markdown",
   "metadata": {},
   "source": [
    "## 6.1 The NLP Tools"
   ]
  },
  {
   "cell_type": "markdown",
   "metadata": {},
   "source": [
    "<img src=\"figures/cap1.6.png\" width=600 />"
   ]
  },
  {
   "cell_type": "markdown",
   "metadata": {},
   "source": [
    "## 6.2 The Corpus"
   ]
  },
  {
   "cell_type": "markdown",
   "metadata": {},
   "source": [
    "## 6.3 The Comparative Syntactic and Lexical Analysis"
   ]
  },
  {
   "cell_type": "markdown",
   "metadata": {},
   "source": [
    "<img src=\"figures/cap1.7.png\" width=600 />"
   ]
  },
  {
   "cell_type": "markdown",
   "metadata": {},
   "source": [
    "<img src=\"figures/cap1.8.png\" width=600 />"
   ]
  },
  {
   "cell_type": "markdown",
   "metadata": {},
   "source": [
    "# 7 Comparing Italian and English Legal Language Peculiarities"
   ]
  },
  {
   "cell_type": "markdown",
   "metadata": {},
   "source": [
    "# 8 Conclusion and Future Directions of Research"
   ]
  },
  {
   "cell_type": "markdown",
   "metadata": {},
   "source": [
    "# 참고자료\n",
    "* [1] Semantic Processing of Legal Texts -  https://www.amazon.com/Semantic-Processing-Legal-Texts-Language/dp/364212836X/\n",
    "* [2] Mining legal texts with Python - http://www.slideshare.net/fccoelho/mining-legal-texts-with-python\n",
    "* [3] NATURAL LANGUAGE PROCESSING AND LEGAL KNOWLEDGE EXTRACTION - http://www.italianlp.it/wp-content/uploads/2013/10/summerSchool2013_ILC.pdf"
   ]
  }
 ],
 "metadata": {
  "kernelspec": {
   "display_name": "Python 2",
   "language": "python",
   "name": "python2"
  },
  "language_info": {
   "codemirror_mode": {
    "name": "ipython",
    "version": 2
   },
   "file_extension": ".py",
   "mimetype": "text/x-python",
   "name": "python",
   "nbconvert_exporter": "python",
   "pygments_lexer": "ipython2",
   "version": "2.7.6"
  }
 },
 "nbformat": 4,
 "nbformat_minor": 0
}
