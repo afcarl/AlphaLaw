{
 "cells": [
  {
   "cell_type": "markdown",
   "metadata": {},
   "source": [
    "# Gov2Vec: Learning Distributed Representations of Institutions and Their Legal Text"
   ]
  },
  {
   "cell_type": "markdown",
   "metadata": {},
   "source": [
    "* 싸이지먼트 / 알파로우 : 파트 1 - Deep paper [1]\n",
    "* 김무성"
   ]
  },
  {
   "cell_type": "markdown",
   "metadata": {},
   "source": [
    "# Contents\n",
    "* Abstract\n",
    "* 1 Introduction\n",
    "* 2 Methods\n",
    "* 3 Data\n",
    "* 4 Results\n",
    "    - 4.1 WordVec-GovVec Similarities\n",
    "    - 4.2 GovVec-GovVec Similarities\n",
    "    - 4.3 GovVec-WordVec Policy Queries\n",
    "* 5 Additional Related Work\n",
    "* 6 Conclusions and Future Work"
   ]
  },
  {
   "cell_type": "markdown",
   "metadata": {},
   "source": [
    "# Abstract"
   ]
  },
  {
   "cell_type": "markdown",
   "metadata": {},
   "source": [
    "* We <font color=\"red\">compare policy differences</font> across institutions \n",
    "    - <font color=\"blue\">by embedding representations</font> of \n",
    "        - the entire legal corpus of each institution and \n",
    "        - the vocabulary shared across all corpora \n",
    "        - into a continuous vector space.\n",
    "* We apply our method, <font color=\"red\">Gov2Vec</font>, to \n",
    "    - Supreme Court opinions, \n",
    "    - Presidential actions, and \n",
    "    - official summaries of Congressional bills.\n",
    "* The model discerns meaningful differences \n",
    "    - between government branches.\n",
    "* We also learn representations for more fine-grained word sources:\n",
    "    - individual Presidents and \n",
    "    - (2-year) Congresses. \n",
    "    - The similarities between learned representations of \n",
    "        - Congresses over time and \n",
    "        - sitting Presidents \n",
    "        - are negatively correlated \n",
    "            - with the bill veto rate, \n",
    "    - and \n",
    "        - the temporal ordering of \n",
    "            - Presidents and \n",
    "            - Congresses was \n",
    "        - implicitly learned from only text.\n",
    "* With the resulting vectors we answer questions such as: \n",
    "    - how does Obama and the 113th House differ in addressing climate change and \n",
    "    - how does this vary from environmental or economic perspectives?\n",
    "* <font color=\"red\">Our work illustrates vector-arithmetic-based investigations of complex relationships between word sources based on their texts</font>.\n",
    "* <font color=\"blue\">We are extending this to create a more comprehensive legal semantic map.</font>"
   ]
  },
  {
   "cell_type": "markdown",
   "metadata": {},
   "source": [
    "#### 참고"
   ]
  },
  {
   "cell_type": "markdown",
   "metadata": {},
   "source": [
    "* [3] http://johnjnay.com/"
   ]
  },
  {
   "cell_type": "markdown",
   "metadata": {},
   "source": [
    "# 1 Introduction"
   ]
  },
  {
   "cell_type": "markdown",
   "metadata": {},
   "source": [
    "Gov2Vec"
   ]
  },
  {
   "cell_type": "markdown",
   "metadata": {},
   "source": [
    "# 2 Methods"
   ]
  },
  {
   "cell_type": "markdown",
   "metadata": {},
   "source": [
    "#### 참고\n",
    "* [4] 한국어와 NLTK, Gensim의 만남 - http://www.slideshare.net/lucypark/nltk-gensim"
   ]
  },
  {
   "cell_type": "markdown",
   "metadata": {},
   "source": [
    "<img src=\"figures/cap1.png\" width=600 />"
   ]
  },
  {
   "cell_type": "markdown",
   "metadata": {},
   "source": [
    "#### word2vec"
   ]
  },
  {
   "cell_type": "markdown",
   "metadata": {},
   "source": [
    "#### doc2vec"
   ]
  },
  {
   "cell_type": "markdown",
   "metadata": {},
   "source": [
    " Le and Mikolov (2014) extend this word2vec method to learn repre- sentations of documents. For predictions of target words, a vector unique to the document is concatenated with context word vectors and subsequently updated."
   ]
  },
  {
   "cell_type": "markdown",
   "metadata": {},
   "source": [
    "### Gov2vec"
   ]
  },
  {
   "cell_type": "markdown",
   "metadata": {},
   "source": [
    "Similarly, we embed institutions and their words into a shared vector space by averaging a vector unique to an institution with context word vectors when predicting that institution’s words and, with back-propagation and stochastic gradient descent, update representations for institutions and the words (which are shared across all institutions)"
   ]
  },
  {
   "cell_type": "markdown",
   "metadata": {},
   "source": [
    "# 3 Data"
   ]
  },
  {
   "cell_type": "markdown",
   "metadata": {},
   "source": [
    "We created a unique corpus of \n",
    "* 59 years of all U.S. Supreme Court opinions (1937-1975, 1991-2010), \n",
    "* 227 years of all \n",
    "    - U.S. Presidential Memorandum, \n",
    "    - Determinations, and \n",
    "    - Proclamations, and \n",
    "    - Executive Orders (1789-2015), and \n",
    "* 42 years of official summaries of all bills \n",
    "    - introduced in the U.S. Congress (1973-2014)."
   ]
  },
  {
   "cell_type": "markdown",
   "metadata": {},
   "source": [
    "# 4 Results\n",
    "* 4.1 WordVec-GovVec Similarities\n",
    "* 4.2 GovVec-GovVec Similarities\n",
    "* 4.3 GovVec-WordVec Policy Queries"
   ]
  },
  {
   "cell_type": "markdown",
   "metadata": {},
   "source": [
    "## 4.1 WordVec-GovVec Similarities"
   ]
  },
  {
   "cell_type": "markdown",
   "metadata": {},
   "source": [
    "<img src=\"figures/cap2.png\" width=600 />"
   ]
  },
  {
   "cell_type": "markdown",
   "metadata": {},
   "source": [
    "## 4.2 GovVec-GovVec Similarities"
   ]
  },
  {
   "cell_type": "markdown",
   "metadata": {},
   "source": [
    "<img src=\"figures/cap3.png\" width=600 />"
   ]
  },
  {
   "cell_type": "markdown",
   "metadata": {},
   "source": [
    "<img src=\"figures/cap4.png\" width=600 />"
   ]
  },
  {
   "cell_type": "markdown",
   "metadata": {},
   "source": [
    "## 4.3 GovVec-WordVec Policy Queries"
   ]
  },
  {
   "cell_type": "markdown",
   "metadata": {},
   "source": [
    "* Fig. 5 (top) asks: how does Obama and the 113th House differ in addressing climate change and how does this vary across environmental and economic contexts? "
   ]
  },
  {
   "cell_type": "markdown",
   "metadata": {},
   "source": [
    "<img src=\"figures/cap5.png\" width=600 />\n",
    "\n",
    "* Fig. 5 (bottom) asks: how does the House address war from “oil” and “terror” perspectives and how does this change after the 2001 terrorist attack.\n",
    "\n",
    "<img src=\"figures/cap6.png\" width=600 />\n",
    "<img src=\"figures/cap7.png\" width=600 />"
   ]
  },
  {
   "cell_type": "markdown",
   "metadata": {},
   "source": [
    "# 5 Additional Related Work"
   ]
  },
  {
   "cell_type": "markdown",
   "metadata": {},
   "source": [
    "# 6 Conclusions and Future Work"
   ]
  },
  {
   "cell_type": "markdown",
   "metadata": {},
   "source": [
    "* Substantively, our goal is to learn a large collection of vectors representing government actors at different resolutions and within different contexts to address a range of targeted policy queries. \n",
    "* Once we learn these representations, researchers could efficiently search for differences in law and policy across time, government branch, and political party."
   ]
  },
  {
   "cell_type": "markdown",
   "metadata": {},
   "source": [
    "# 참고자료\n",
    "* [1] Gov2Vec: Learning Distributed Representations of Institutions and Their Legal Text - https://arxiv.org/pdf/1609.06616v2.pdf\n",
    "* [2] Predicting and Understanding Law-Making with Machine Learning - https://arxiv.org/abs/1607.02109\n",
    "* [3] http://johnjnay.com/\n",
    "* [4] 한국어와 NLTK, Gensim의 만남 - http://www.slideshare.net/lucypark/nltk-gensim"
   ]
  }
 ],
 "metadata": {
  "kernelspec": {
   "display_name": "Python 2",
   "language": "python",
   "name": "python2"
  },
  "language_info": {
   "codemirror_mode": {
    "name": "ipython",
    "version": 2
   },
   "file_extension": ".py",
   "mimetype": "text/x-python",
   "name": "python",
   "nbconvert_exporter": "python",
   "pygments_lexer": "ipython2",
   "version": "2.7.6"
  }
 },
 "nbformat": 4,
 "nbformat_minor": 0
}
